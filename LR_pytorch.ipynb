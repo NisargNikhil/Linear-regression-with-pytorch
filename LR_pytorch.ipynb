{
  "nbformat": 4,
  "nbformat_minor": 0,
  "metadata": {
    "colab": {
      "name": "Linear regression.ipynb",
      "provenance": []
    },
    "kernelspec": {
      "name": "python3",
      "display_name": "Python 3"
    }
  },
  "cells": [
    {
      "cell_type": "code",
      "metadata": {
        "id": "ZTC0SlycbmQ7",
        "outputId": "10da3434-46e5-4071-b508-4a5fae70190b",
        "colab": {
          "base_uri": "https://localhost:8080/",
          "height": 68
        }
      },
      "source": [
        "!pip3 install torch"
      ],
      "execution_count": 1,
      "outputs": [
        {
          "output_type": "stream",
          "text": [
            "Requirement already satisfied: torch in /usr/local/lib/python3.6/dist-packages (1.6.0+cu101)\n",
            "Requirement already satisfied: future in /usr/local/lib/python3.6/dist-packages (from torch) (0.16.0)\n",
            "Requirement already satisfied: numpy in /usr/local/lib/python3.6/dist-packages (from torch) (1.18.5)\n"
          ],
          "name": "stdout"
        }
      ]
    },
    {
      "cell_type": "code",
      "metadata": {
        "id": "1oiIt7jzbt6j"
      },
      "source": [
        "import torch"
      ],
      "execution_count": 2,
      "outputs": []
    },
    {
      "cell_type": "code",
      "metadata": {
        "id": "dUtqkFNbdUfa"
      },
      "source": [
        "from torch.nn import Linear"
      ],
      "execution_count": 4,
      "outputs": []
    },
    {
      "cell_type": "code",
      "metadata": {
        "id": "AKLjgAQOgwTJ"
      },
      "source": [
        "import torch.nn as nn"
      ],
      "execution_count": 3,
      "outputs": []
    },
    {
      "cell_type": "code",
      "metadata": {
        "id": "Zn3jl9emofON"
      },
      "source": [
        "x = torch.randn(100,1)*10"
      ],
      "execution_count": 5,
      "outputs": []
    },
    {
      "cell_type": "code",
      "metadata": {
        "id": "1WEq-XTsou2g"
      },
      "source": [
        "y = x + torch.randn(100,1)*3"
      ],
      "execution_count": 6,
      "outputs": []
    },
    {
      "cell_type": "code",
      "metadata": {
        "id": "MrARe58uo4DN",
        "outputId": "0caa19e1-f46e-4c29-ea69-fa3cdcb44946",
        "colab": {
          "base_uri": "https://localhost:8080/",
          "height": 296
        }
      },
      "source": [
        "import matplotlib.pyplot as plt\n",
        "plt.plot(x.numpy(),y.numpy(), 'o')\n",
        "plt.ylabel('y')\n",
        "plt.xlabel('x')"
      ],
      "execution_count": 7,
      "outputs": [
        {
          "output_type": "execute_result",
          "data": {
            "text/plain": [
              "Text(0.5, 0, 'x')"
            ]
          },
          "metadata": {
            "tags": []
          },
          "execution_count": 7
        },
        {
          "output_type": "display_data",
          "data": {
            "image/png": "[encoded data removed]",
            "text/plain": [
              "<Figure size 432x288 with 1 Axes>"
            ]
          },
          "metadata": {
            "tags": [],
            "needs_background": "light"
          }
        }
      ]
    },
    {
      "cell_type": "code",
      "metadata": {
        "id": "-VpHMVqgi7JK"
      },
      "source": [
        "class LR(nn.Module):\n",
        "  def __init__(self,in_feature, out_feature):\n",
        "    super().__init__()\n",
        "    self.linear = nn.Linear(in_feature,out_feature)\n",
        "  def forward(self,x):\n",
        "    return self.linear(x)  \n"
      ],
      "execution_count": 8,
      "outputs": []
    },
    {
      "cell_type": "code",
      "metadata": {
        "id": "SCo9TqFcjvyV"
      },
      "source": [
        "torch.manual_seed(1)\n",
        "model = LR(1,1)"
      ],
      "execution_count": 9,
      "outputs": []
    },
    {
      "cell_type": "code",
      "metadata": {
        "id": "3xrywpJmqPCf",
        "outputId": "ef94a8b2-2077-4564-f51e-8be7dca05ba1",
        "colab": {
          "base_uri": "https://localhost:8080/",
          "height": 68
        }
      },
      "source": [
        "model"
      ],
      "execution_count": 10,
      "outputs": [
        {
          "output_type": "execute_result",
          "data": {
            "text/plain": [
              "LR(\n",
              "  (linear): Linear(in_features=1, out_features=1, bias=True)\n",
              ")"
            ]
          },
          "metadata": {
            "tags": []
          },
          "execution_count": 10
        }
      ]
    },
    {
      "cell_type": "code",
      "metadata": {
        "id": "5UQGA6TrqWwo"
      },
      "source": [
        "[w,b] = model.parameters()"
      ],
      "execution_count": 11,
      "outputs": []
    },
    {
      "cell_type": "code",
      "metadata": {
        "id": "xKh1c4YqrTOD",
        "outputId": "360393db-4877-43aa-9f2e-7fc5b30a3c17",
        "colab": {
          "base_uri": "https://localhost:8080/",
          "height": 68
        }
      },
      "source": [
        "w,b"
      ],
      "execution_count": 12,
      "outputs": [
        {
          "output_type": "execute_result",
          "data": {
            "text/plain": [
              "(Parameter containing:\n",
              " tensor([[0.5153]], requires_grad=True), Parameter containing:\n",
              " tensor([-0.4414], requires_grad=True))"
            ]
          },
          "metadata": {
            "tags": []
          },
          "execution_count": 12
        }
      ]
    },
    {
      "cell_type": "code",
      "metadata": {
        "id": "zn4ZI8z4rk0L",
        "outputId": "33065330-9592-4f19-de74-835210d2684e",
        "colab": {
          "base_uri": "https://localhost:8080/",
          "height": 34
        }
      },
      "source": [
        "w[0,0].item(), b.item()"
      ],
      "execution_count": 13,
      "outputs": [
        {
          "output_type": "execute_result",
          "data": {
            "text/plain": [
              "(0.5152631998062134, -0.44137823581695557)"
            ]
          },
          "metadata": {
            "tags": []
          },
          "execution_count": 13
        }
      ]
    },
    {
      "cell_type": "code",
      "metadata": {
        "id": "yTA4VGKimRAS"
      },
      "source": [
        "def get_params():\n",
        "  return (w[0,0].item(), b.item())"
      ],
      "execution_count": 14,
      "outputs": []
    },
    {
      "cell_type": "code",
      "metadata": {
        "id": "qTFrms_rnCmi"
      },
      "source": [
        "import numpy as np"
      ],
      "execution_count": 15,
      "outputs": []
    },
    {
      "cell_type": "code",
      "metadata": {
        "id": "1zSd4SvwfR-v"
      },
      "source": [
        "def plot_fit(title):\n",
        "  plt.title = title\n",
        "  w1,b1 = get_params()\n",
        "  x1 = np.array([-30,30])\n",
        "  y1 = w1*x1 + b1\n",
        "  plt.plot(x1,y1, 'r')\n",
        "  plt.scatter(x,y)\n",
        "  plt.show()"
      ],
      "execution_count": 16,
      "outputs": []
    },
    {
      "cell_type": "code",
      "metadata": {
        "id": "AgN1_FQBgGNk",
        "outputId": "55743272-38d5-4f8b-99f8-de6d24977b81",
        "colab": {
          "base_uri": "https://localhost:8080/",
          "height": 265
        }
      },
      "source": [
        "plot_fit('linear line')"
      ],
      "execution_count": 17,
      "outputs": [
        {
          "output_type": "display_data",
          "data": {
            "image/png": "[encoded data removed]",
            "text/plain": [
              "<Figure size 432x288 with 1 Axes>"
            ]
          },
          "metadata": {
            "tags": [],
            "needs_background": "light"
          }
        }
      ]
    },
    {
      "cell_type": "code",
      "metadata": {
        "id": "2JF7vYQHgxEw"
      },
      "source": [
        "criterion = nn.MSELoss()\n",
        "optimizer = torch.optim.SGD(model.parameters(),lr=0.01)"
      ],
      "execution_count": 18,
      "outputs": []
    },
    {
      "cell_type": "code",
      "metadata": {
        "id": "xouFBsmm4brr",
        "outputId": "e2cc4c8a-79ad-4fa3-e1ce-dc46df42cee3",
        "colab": {
          "base_uri": "https://localhost:8080/",
          "height": 1000
        }
      },
      "source": [
        "epochs = 100\n",
        "losses = []\n",
        "for i in range(epochs):\n",
        "  y_pred = model.forward(x)\n",
        "  loss = criterion(y_pred,y)\n",
        "  print('epoch is {} and the loss is {}'.format(i,loss.item()))\n",
        "  losses.append(loss)\n",
        "  optimizer.zero_grad()\n",
        "  loss.backward()\n",
        "  optimizer.step()"
      ],
      "execution_count": 19,
      "outputs": [
        {
          "output_type": "stream",
          "text": [
            "epoch is 0 and the loss is 31.23556900024414\n",
            "epoch is 1 and the loss is 24.628131866455078\n",
            "epoch is 2 and the loss is 19.931167602539062\n",
            "epoch is 3 and the loss is 16.591928482055664\n",
            "epoch is 4 and the loss is 14.217609405517578\n",
            "epoch is 5 and the loss is 12.529074668884277\n",
            "epoch is 6 and the loss is 11.327947616577148\n",
            "epoch is 7 and the loss is 10.47323989868164\n",
            "epoch is 8 and the loss is 9.864762306213379\n",
            "epoch is 9 and the loss is 9.43130874633789\n",
            "epoch is 10 and the loss is 9.122282981872559\n",
            "epoch is 11 and the loss is 8.901715278625488\n",
            "epoch is 12 and the loss is 8.744051933288574\n",
            "epoch is 13 and the loss is 8.631129264831543\n",
            "epoch is 14 and the loss is 8.550034523010254\n",
            "epoch is 15 and the loss is 8.491591453552246\n",
            "epoch is 16 and the loss is 8.4492769241333\n",
            "epoch is 17 and the loss is 8.418458938598633\n",
            "epoch is 18 and the loss is 8.395835876464844\n",
            "epoch is 19 and the loss is 8.379069328308105\n",
            "epoch is 20 and the loss is 8.366488456726074\n",
            "epoch is 21 and the loss is 8.356908798217773\n",
            "epoch is 22 and the loss is 8.349488258361816\n",
            "epoch is 23 and the loss is 8.34362506866455\n",
            "epoch is 24 and the loss is 8.33889389038086\n",
            "epoch is 25 and the loss is 8.33498764038086\n",
            "epoch is 26 and the loss is 8.33168888092041\n",
            "epoch is 27 and the loss is 8.328843116760254\n",
            "epoch is 28 and the loss is 8.326338768005371\n",
            "epoch is 29 and the loss is 8.324097633361816\n",
            "epoch is 30 and the loss is 8.322057723999023\n",
            "epoch is 31 and the loss is 8.320182800292969\n",
            "epoch is 32 and the loss is 8.318439483642578\n",
            "epoch is 33 and the loss is 8.31680679321289\n",
            "epoch is 34 and the loss is 8.315267562866211\n",
            "epoch is 35 and the loss is 8.313810348510742\n",
            "epoch is 36 and the loss is 8.31242561340332\n",
            "epoch is 37 and the loss is 8.311103820800781\n",
            "epoch is 38 and the loss is 8.309843063354492\n",
            "epoch is 39 and the loss is 8.308637619018555\n",
            "epoch is 40 and the loss is 8.307483673095703\n",
            "epoch is 41 and the loss is 8.306377410888672\n",
            "epoch is 42 and the loss is 8.305315971374512\n",
            "epoch is 43 and the loss is 8.304298400878906\n",
            "epoch is 44 and the loss is 8.303322792053223\n",
            "epoch is 45 and the loss is 8.302384376525879\n",
            "epoch is 46 and the loss is 8.301485061645508\n",
            "epoch is 47 and the loss is 8.300619125366211\n",
            "epoch is 48 and the loss is 8.299789428710938\n",
            "epoch is 49 and the loss is 8.298995018005371\n",
            "epoch is 50 and the loss is 8.29822826385498\n",
            "epoch is 51 and the loss is 8.297492027282715\n",
            "epoch is 52 and the loss is 8.296785354614258\n",
            "epoch is 53 and the loss is 8.296107292175293\n",
            "epoch is 54 and the loss is 8.295454978942871\n",
            "epoch is 55 and the loss is 8.294829368591309\n",
            "epoch is 56 and the loss is 8.294227600097656\n",
            "epoch is 57 and the loss is 8.29365062713623\n",
            "epoch is 58 and the loss is 8.293096542358398\n",
            "epoch is 59 and the loss is 8.292562484741211\n",
            "epoch is 60 and the loss is 8.2920503616333\n",
            "epoch is 61 and the loss is 8.291556358337402\n",
            "epoch is 62 and the loss is 8.291085243225098\n",
            "epoch is 63 and the loss is 8.290631294250488\n",
            "epoch is 64 and the loss is 8.29019546508789\n",
            "epoch is 65 and the loss is 8.289775848388672\n",
            "epoch is 66 and the loss is 8.289373397827148\n",
            "epoch is 67 and the loss is 8.288987159729004\n",
            "epoch is 68 and the loss is 8.288615226745605\n",
            "epoch is 69 and the loss is 8.28825855255127\n",
            "epoch is 70 and the loss is 8.287917137145996\n",
            "epoch is 71 and the loss is 8.28758716583252\n",
            "epoch is 72 and the loss is 8.287270545959473\n",
            "epoch is 73 and the loss is 8.286967277526855\n",
            "epoch is 74 and the loss is 8.286674499511719\n",
            "epoch is 75 and the loss is 8.286395072937012\n",
            "epoch is 76 and the loss is 8.286126136779785\n",
            "epoch is 77 and the loss is 8.285866737365723\n",
            "epoch is 78 and the loss is 8.28561782836914\n",
            "epoch is 79 and the loss is 8.285380363464355\n",
            "epoch is 80 and the loss is 8.285149574279785\n",
            "epoch is 81 and the loss is 8.284929275512695\n",
            "epoch is 82 and the loss is 8.284717559814453\n",
            "epoch is 83 and the loss is 8.284514427185059\n",
            "epoch is 84 and the loss is 8.284317970275879\n",
            "epoch is 85 and the loss is 8.284131050109863\n",
            "epoch is 86 and the loss is 8.283951759338379\n",
            "epoch is 87 and the loss is 8.28377914428711\n",
            "epoch is 88 and the loss is 8.283611297607422\n",
            "epoch is 89 and the loss is 8.283451080322266\n",
            "epoch is 90 and the loss is 8.283297538757324\n",
            "epoch is 91 and the loss is 8.283151626586914\n",
            "epoch is 92 and the loss is 8.283008575439453\n",
            "epoch is 93 and the loss is 8.282873153686523\n",
            "epoch is 94 and the loss is 8.282742500305176\n",
            "epoch is 95 and the loss is 8.282617568969727\n",
            "epoch is 96 and the loss is 8.282496452331543\n",
            "epoch is 97 and the loss is 8.282379150390625\n",
            "epoch is 98 and the loss is 8.282268524169922\n",
            "epoch is 99 and the loss is 8.282161712646484\n"
          ],
          "name": "stdout"
        }
      ]
    },
    {
      "cell_type": "code",
      "metadata": {
        "id": "q7HG3zdwZS0l",
        "outputId": "0bf89038-9bcb-47c2-b9c9-4d06b01f54fa",
        "colab": {
          "base_uri": "https://localhost:8080/",
          "height": 296
        }
      },
      "source": [
        "plt.plot(range(epochs),losses)\n",
        "plt.xlabel('number of epochs')\n",
        "plt.ylabel('losses')"
      ],
      "execution_count": 21,
      "outputs": [
        {
          "output_type": "execute_result",
          "data": {
            "text/plain": [
              "Text(0, 0.5, 'losses')"
            ]
          },
          "metadata": {
            "tags": []
          },
          "execution_count": 21
        },
        {
          "output_type": "display_data",
          "data": {
            "image/png": "[encoded data removed]",
            "text/plain": [
              "<Figure size 432x288 with 1 Axes>"
            ]
          },
          "metadata": {
            "tags": [],
            "needs_background": "light"
          }
        }
      ]
    },
    {
      "cell_type": "code",
      "metadata": {
        "id": "7ppyCc60Z3Pv",
        "outputId": "d1848aa9-dc87-4264-f629-cd9fb6c7f3e8",
        "colab": {
          "base_uri": "https://localhost:8080/",
          "height": 265
        }
      },
      "source": [
        "plot_fit('trained model')"
      ],
      "execution_count": 22,
      "outputs": [
        {
          "output_type": "display_data",
          "data": {
            "image/png": "[encoded data removed]",
            "text/plain": [
              "<Figure size 432x288 with 1 Axes>"
            ]
          },
          "metadata": {
            "tags": [],
            "needs_background": "light"
          }
        }
      ]
    },
    {
      "cell_type": "code",
      "metadata": {
        "id": "9oqNjeEwaPi-"
      },
      "source": [
        ""
      ],
      "execution_count": null,
      "outputs": []
    }
  ]
}